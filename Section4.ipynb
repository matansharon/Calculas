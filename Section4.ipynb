{
 "cells": [
  {
   "cell_type": "code",
   "execution_count": null,
   "metadata": {},
   "outputs": [],
   "source": [
    "import numpy as np\n",
    "import matplotlib.pyplot as plt\n"
   ]
  },
  {
   "cell_type": "code",
   "execution_count": null,
   "metadata": {},
   "outputs": [],
   "source": [
    "def f():\n",
    "    return np.random.randint(0,100,10)\n",
    "\n",
    "arr1 = f()\n",
    "arr2 = f()\n",
    "arr3=np.concatenate([arr1, arr2])\n",
    "arr3=np.sort(arr3)\n",
    "plt.plot(arr3)\n",
    "plt.show()"
   ]
  },
  {
   "cell_type": "code",
   "execution_count": null,
   "metadata": {},
   "outputs": [],
   "source": [
    "import PyPDF2\n",
    "\n",
    "pdf_file = open('temp.pdf', 'rb')\n",
    "pdf_reader = PyPDF2.PdfFileReader(pdf_file)\n",
    "text = []\n",
    "for page in range(pdf_reader.getNumPages()):\n",
    "    page_obj = pdf_reader.getPage(page)\n",
    "    text.append(page_obj.extractText())\n",
    "all_text = '\\n'.join(text)\n",
    "print(all_text)"
   ]
  },
  {
   "cell_type": "code",
   "execution_count": 10,
   "metadata": {},
   "outputs": [
    {
     "name": "stdout",
     "output_type": "stream",
     "text": [
      "x**2 + y**2 + z**2\n",
      "14\n",
      "x**2 + y**2 + z**2\n"
     ]
    }
   ],
   "source": [
    "import sympy as sp\n",
    "\n",
    "# Define symbols\n",
    "x, y, z = sp.symbols('x y z')\n",
    "\n",
    "# Define an expression using the symbols\n",
    "expr = x**2 + y**2 + z**2\n",
    "\n",
    "# Substitute values for the symbols\n",
    "expr_subs = expr.subs({x: 1, y: 2, z: 3})\n",
    "\n",
    "# Simplify the expression\n",
    "expr_simp = sp.simplify(expr)\n",
    "\n",
    "# Print the results\n",
    "print(expr)\n",
    "print(expr_subs)\n",
    "print(expr_simp)"
   ]
  },
  {
   "cell_type": "code",
   "execution_count": 11,
   "metadata": {},
   "outputs": [
    {
     "name": "stdout",
     "output_type": "stream",
     "text": [
      "7\n"
     ]
    }
   ],
   "source": [
    "import sympy as sp\n",
    "\n",
    "# Define the function\n",
    "x = sp.Symbol('x')\n",
    "f = (x**2 + 3*x - 10) / (x - 2)\n",
    "\n",
    "# Evaluate the limit as x approaches 2\n",
    "limit_val = sp.limit(f, x, 2)\n",
    "\n",
    "# Print the result\n",
    "print(limit_val)"
   ]
  }
 ],
 "metadata": {
  "kernelspec": {
   "display_name": "ai_env",
   "language": "python",
   "name": "python3"
  },
  "language_info": {
   "codemirror_mode": {
    "name": "ipython",
    "version": 3
   },
   "file_extension": ".py",
   "mimetype": "text/x-python",
   "name": "python",
   "nbconvert_exporter": "python",
   "pygments_lexer": "ipython3",
   "version": "3.10.11"
  },
  "orig_nbformat": 4
 },
 "nbformat": 4,
 "nbformat_minor": 2
}
