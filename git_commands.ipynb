{
 "cells": [
  {
   "cell_type": "code",
   "execution_count": 4,
   "metadata": {},
   "outputs": [
    {
     "name": "stderr",
     "output_type": "stream",
     "text": [
      "warning: in the working copy of 'git_commands.ipynb', LF will be replaced by CRLF the next time Git touches it\n"
     ]
    },
    {
     "name": "stdout",
     "output_type": "stream",
     "text": [
      "[main 3e9b8b5] done with sympy section 2 of 29 challenge\n",
      " 1 file changed, 6 insertions(+), 5 deletions(-)\n"
     ]
    },
    {
     "name": "stderr",
     "output_type": "stream",
     "text": [
      "To https://github.com/matansharon/Calculas.git\n",
      "   afea85a..3e9b8b5  main -> main\n"
     ]
    }
   ],
   "source": [
    "!git add --all\n",
    "!git commit -m \"done with sympy section 3 of 29 challenge\"\n",
    "!git push cal_github main"
   ]
  }
 ],
 "metadata": {
  "kernelspec": {
   "display_name": "ai_env_conda",
   "language": "python",
   "name": "python3"
  },
  "language_info": {
   "codemirror_mode": {
    "name": "ipython",
    "version": 3
   },
   "file_extension": ".py",
   "mimetype": "text/x-python",
   "name": "python",
   "nbconvert_exporter": "python",
   "pygments_lexer": "ipython3",
   "version": "3.10.12"
  },
  "orig_nbformat": 4
 },
 "nbformat": 4,
 "nbformat_minor": 2
}
