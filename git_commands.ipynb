{
 "cells": [
  {
   "cell_type": "code",
   "execution_count": 1,
   "metadata": {},
   "outputs": [
    {
     "name": "stderr",
     "output_type": "stream",
     "text": [
      "warning: in the working copy of 'Section3.ipynb', LF will be replaced by CRLF the next time Git touches it\n",
      "warning: in the working copy of 'git_commands.ipynb', LF will be replaced by CRLF the next time Git touches it\n"
     ]
    },
    {
     "name": "stdout",
     "output_type": "stream",
     "text": [
      "[main 0365ed3] code challenge 29\n",
      " 2 files changed, 147 insertions(+), 115 deletions(-)\n",
      " create mode 100644 git_commands.ipynb\n"
     ]
    },
    {
     "name": "stderr",
     "output_type": "stream",
     "text": [
      "To https://github.com/matansharon/Calculas.git\n",
      "   4fdd71c..0365ed3  main -> main\n"
     ]
    }
   ],
   "source": [
    "!git add --all\n",
    "!git commit -m \"git commands\"\n",
    "!git push cal_github main"
   ]
  }
 ],
 "metadata": {
  "kernelspec": {
   "display_name": "ai_env_conda",
   "language": "python",
   "name": "python3"
  },
  "language_info": {
   "codemirror_mode": {
    "name": "ipython",
    "version": 3
   },
   "file_extension": ".py",
   "mimetype": "text/x-python",
   "name": "python",
   "nbconvert_exporter": "python",
   "pygments_lexer": "ipython3",
   "version": "3.10.12"
  },
  "orig_nbformat": 4
 },
 "nbformat": 4,
 "nbformat_minor": 2
}
