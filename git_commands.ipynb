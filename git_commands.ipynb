{
 "cells": [
  {
   "cell_type": "code",
   "execution_count": 2,
   "metadata": {},
   "outputs": [
    {
     "name": "stderr",
     "output_type": "stream",
     "text": [
      "warning: in the working copy of 'git_commands.ipynb', LF will be replaced by CRLF the next time Git touches it\n"
     ]
    },
    {
     "name": "stdout",
     "output_type": "stream",
     "text": [
      "[main 4e470ee] git commands\n",
      " 1 file changed, 37 insertions(+), 3 deletions(-)\n"
     ]
    },
    {
     "name": "stderr",
     "output_type": "stream",
     "text": [
      "To https://github.com/matansharon/Calculas.git\n",
      "   0365ed3..4e470ee  main -> main\n"
     ]
    }
   ],
   "source": [
    "!git add --all\n",
    "!git commit -m \"done with sympy\"\n",
    "!git push cal_github main"
   ]
  }
 ],
 "metadata": {
  "kernelspec": {
   "display_name": "ai_env_conda",
   "language": "python",
   "name": "python3"
  },
  "language_info": {
   "codemirror_mode": {
    "name": "ipython",
    "version": 3
   },
   "file_extension": ".py",
   "mimetype": "text/x-python",
   "name": "python",
   "nbconvert_exporter": "python",
   "pygments_lexer": "ipython3",
   "version": "3.10.12"
  },
  "orig_nbformat": 4
 },
 "nbformat": 4,
 "nbformat_minor": 2
}
